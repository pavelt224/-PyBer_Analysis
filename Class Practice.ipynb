{
 "cells": [
  {
   "cell_type": "code",
   "execution_count": 5,
   "id": "682f2d46",
   "metadata": {},
   "outputs": [],
   "source": [
    "# %matplotlib notebook"
   ]
  },
  {
   "cell_type": "code",
   "execution_count": 6,
   "id": "00ad2b0d",
   "metadata": {},
   "outputs": [],
   "source": [
    "import matplotlib.pyplot as plt\n",
    "import numpy as np"
   ]
  },
  {
   "cell_type": "code",
   "execution_count": 7,
   "id": "fe728e19",
   "metadata": {},
   "outputs": [
    {
     "data": {
      "text/plain": [
       "array([0, 1, 2, 3, 4])"
      ]
     },
     "execution_count": 7,
     "metadata": {},
     "output_type": "execute_result"
    }
   ],
   "source": [
    "# Set the x-axis\n",
    "cities = [\"New Orleans\", \"Milwaukee\", \"Omaha\", \"Pittsburgh\", \"Toledo\"]\n",
    "bars_in_cities = [8.6, 8.5, 8.3, 7.9, 7.2]\n",
    "x_axis = np.arange(len(bars_in_cities))\n",
    "x_axis"
   ]
  },
  {
   "cell_type": "code",
   "execution_count": 8,
   "id": "d227af1a",
   "metadata": {},
   "outputs": [],
   "source": [
    "# Create the ticks for our bar chart's x axis\n",
    "# tick_locations = x_axis"
   ]
  },
  {
   "cell_type": "code",
   "execution_count": 9,
   "id": "a44e4607",
   "metadata": {},
   "outputs": [
    {
     "data": {
      "text/plain": [
       "([<matplotlib.axis.XTick at 0x292d91f0c08>,\n",
       "  <matplotlib.axis.XTick at 0x292d91d7a48>,\n",
       "  <matplotlib.axis.XTick at 0x292d91d7448>,\n",
       "  <matplotlib.axis.XTick at 0x292d98e9788>,\n",
       "  <matplotlib.axis.XTick at 0x292d98e9288>],\n",
       " [Text(0, 0, 'New Orleans'),\n",
       "  Text(1, 0, 'Milwaukee'),\n",
       "  Text(2, 0, 'Omaha'),\n",
       "  Text(3, 0, 'Pittsburgh'),\n",
       "  Text(4, 0, 'Toledo')])"
      ]
     },
     "execution_count": 9,
     "metadata": {},
     "output_type": "execute_result"
    },
    {
     "data": {
      "image/png": "[encoded data removed]",
      "text/plain": [
       "<Figure size 432x288 with 1 Axes>"
      ]
     },
     "metadata": {
      "needs_background": "light"
     },
     "output_type": "display_data"
    }
   ],
   "source": [
    "# Create a bar chart based upon the above data\n",
    "plt.bar(x_axis, bars_in_cities, color=\"b\", align=\"center\")\n",
    "\n",
    "plt.xticks(x_axis, cities)"
   ]
  },
  {
   "cell_type": "code",
   "execution_count": null,
   "id": "1be07a79",
   "metadata": {},
   "outputs": [],
   "source": []
  }
 ],
 "metadata": {
  "kernelspec": {
   "display_name": "PythonData",
   "language": "python",
   "name": "pythondata"
  },
  "language_info": {
   "codemirror_mode": {
    "name": "ipython",
    "version": 3
   },
   "file_extension": ".py",
   "mimetype": "text/x-python",
   "name": "python",
   "nbconvert_exporter": "python",
   "pygments_lexer": "ipython3",
   "version": "3.7.11"
  }
 },
 "nbformat": 4,
 "nbformat_minor": 5
}
